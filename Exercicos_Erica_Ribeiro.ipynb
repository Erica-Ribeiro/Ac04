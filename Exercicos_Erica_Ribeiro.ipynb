{
  "nbformat": 4,
  "nbformat_minor": 0,
  "metadata": {
    "colab": {
      "provenance": [],
      "authorship_tag": "ABX9TyMz+bSdkabKnyts6G2BgE1U",
      "include_colab_link": true
    },
    "kernelspec": {
      "name": "python3",
      "display_name": "Python 3"
    },
    "language_info": {
      "name": "python"
    }
  },
  "cells": [
    {
      "cell_type": "markdown",
      "metadata": {
        "id": "view-in-github",
        "colab_type": "text"
      },
      "source": [
        "<a href=\"https://colab.research.google.com/github/Erica-Ribeiro/Ac04/blob/master/Exercicos_Erica_Ribeiro.ipynb\" target=\"_parent\"><img src=\"https://colab.research.google.com/assets/colab-badge.svg\" alt=\"Open In Colab\"/></a>"
      ]
    },
    {
      "cell_type": "markdown",
      "source": [
        "1) Faça um programa que recebe uma lista de números reais e exibe o\n",
        "seu maior elemento.\n"
      ],
      "metadata": {
        "id": "8KyDttxnDut6"
      }
    },
    {
      "cell_type": "code",
      "execution_count": null,
      "metadata": {
        "id": "AEkZc4itDToR",
        "colab": {
          "base_uri": "https://localhost:8080/"
        },
        "outputId": "08e27616-ddf1-4920-8519-de81f5e60963"
      },
      "outputs": [
        {
          "output_type": "stream",
          "name": "stdout",
          "text": [
            "Digite 3 números.\n",
            "Digite um número: [ 1 ]: 2\n",
            "Digite um número: [ 2 ]: 6\n",
            "Digite um número: [ 3 ]: 4\n",
            "O maior valor é: 6\n"
          ]
        }
      ],
      "source": [
        "x = 1\n",
        "lista = []\n",
        "print('Digite 3 números.')\n",
        "while x <= 3:\n",
        "    n = int(input('Digite um número: [ %s ]: '%x))\n",
        "    lista.append(n)\n",
        "    x += 1\n",
        "print('O maior valor é:',max(lista))"
      ]
    },
    {
      "cell_type": "markdown",
      "source": [
        "2) Faça um programa que recebe uma lista de números reais e exibe sua média"
      ],
      "metadata": {
        "id": "Cy_ymM23kLZw"
      }
    },
    {
      "cell_type": "code",
      "source": [
        "def calcular_media(lista):\n",
        "    quantidade = len(lista)\n",
        "    soma = sum(lista)\n",
        "    media = soma / quantidade\n",
        "    return media\n",
        "lista_numeros = []\n",
        "n = int(input(\"Informe a quantidade de números na lista: \"))\n",
        "for i in range(n):\n",
        "    numero = float(input(\"Informe o número: \" ))\n",
        "    lista_numeros.append(numero)\n",
        "\n",
        "media = calcular_media(lista_numeros)\n",
        "print(\"A média dos números é:\", media)\n",
        "\n"
      ],
      "metadata": {
        "colab": {
          "base_uri": "https://localhost:8080/"
        },
        "id": "6CBbiYnmw-Xd",
        "outputId": "c13afe37-b4c2-489c-c26e-48a6b16ffa26"
      },
      "execution_count": 10,
      "outputs": [
        {
          "output_type": "stream",
          "name": "stdout",
          "text": [
            "Informe a quantidade de números na lista: 3\n",
            "Informe o número: 9\n",
            "Informe o número: 8\n",
            "Informe o número: 7\n",
            "A média dos números é: 8.0\n"
          ]
        }
      ]
    },
    {
      "cell_type": "markdown",
      "source": [
        "3) Dada uma lista de números inteiros, faça um programa que responda a\n",
        "soma de todos os números pares e ímpares."
      ],
      "metadata": {
        "id": "cRFIdQ7vhfli"
      }
    },
    {
      "cell_type": "code",
      "source": [
        "def calcular_soma_pares_impares(lista):\n",
        "    soma_pares = 0\n",
        "    soma_impares = 0\n",
        "\n",
        "    for numero in lista:\n",
        "        if numero % 2 == 0:  # verifica se o número é par\n",
        "            soma_pares += numero\n",
        "        else:\n",
        "            soma_impares += numero\n",
        "\n",
        "    return soma_pares, soma_impares\n",
        "\n",
        "\n",
        "lista_numeros = [1, 2, 7, 4, 5, 8, 20, 18, 29, 10]\n",
        "\n",
        "soma_pares, soma_impares = calcular_soma_pares_impares(lista_numeros)\n",
        "\n",
        "print(\"Soma dos números pares:\", soma_pares)\n",
        "print(\"Soma dos números ímpares:\", soma_impares)"
      ],
      "metadata": {
        "id": "rNGgN6TGQe73",
        "colab": {
          "base_uri": "https://localhost:8080/"
        },
        "outputId": "8d1643c0-1ae2-48c5-f4ca-756bba30c681"
      },
      "execution_count": 13,
      "outputs": [
        {
          "output_type": "stream",
          "name": "stdout",
          "text": [
            "Soma dos números pares: 62\n",
            "Soma dos números ímpares: 42\n"
          ]
        }
      ]
    },
    {
      "cell_type": "code",
      "source": [],
      "metadata": {
        "id": "1wTl_f6jjM60"
      },
      "execution_count": null,
      "outputs": []
    },
    {
      "cell_type": "markdown",
      "source": [
        "4) Faça um programa que receba um número e exiba o fatorial desse\n",
        "número.\n"
      ],
      "metadata": {
        "id": "RCiUCAAbjKEZ"
      }
    },
    {
      "cell_type": "code",
      "source": [
        "def calcular_fatorial(numero):\n",
        "    fatorial = 1\n",
        "\n",
        "    # Verifica se o número é negativo ou zero\n",
        "    if numero < 0:\n",
        "        return \"Não é possível calcular o fatorial de um número negativo.\"\n",
        "    elif numero == 0:\n",
        "        return \"O fatorial de 0 é 1.\"\n",
        "\n",
        "    # Calcula o fatorial do número\n",
        "    for i in range(1, numero + 1):\n",
        "        fatorial *= i\n",
        "\n",
        "    return fatorial\n",
        "\n",
        "numero = int(input(\"Digite um número inteiro: \"))\n",
        "\n",
        "resultado = calcular_fatorial(numero)\n",
        "\n",
        "print(\"O fatorial de\", numero, \"é:\", resultado)"
      ],
      "metadata": {
        "colab": {
          "base_uri": "https://localhost:8080/"
        },
        "id": "O9OLbH-HjKZx",
        "outputId": "73d77fae-3580-43f4-bb4a-043e0647ef7c"
      },
      "execution_count": 14,
      "outputs": [
        {
          "output_type": "stream",
          "name": "stdout",
          "text": [
            "Digite um número inteiro: 10\n",
            "O fatorial de 10 é: 3628800\n"
          ]
        }
      ]
    },
    {
      "cell_type": "markdown",
      "source": [
        "5) Faça um programa que verifique se uma string possui caracteres\n",
        "duplicados.\n"
      ],
      "metadata": {
        "id": "xPX7yRD5ldrW"
      }
    },
    {
      "cell_type": "code",
      "source": [
        "def possui_caracteres_duplicados(string):\n",
        "    caracteres = set()\n",
        "\n",
        "    for char in string:\n",
        "        if char in caracteres:\n",
        "            return True\n",
        "        caracteres.add(char)\n",
        "\n",
        "    return False\n",
        "\n",
        "string = input(\"Digite uma string: \")\n",
        "\n",
        "if possui_caracteres_duplicados(string):\n",
        "    print(\"A string possui caracteres duplicados.\")\n",
        "else:\n",
        "    print(\"A string não possui caracteres duplicados.\")"
      ],
      "metadata": {
        "colab": {
          "base_uri": "https://localhost:8080/"
        },
        "id": "twyEvoFBl1qx",
        "outputId": "223881b2-cc42-44ff-9cd4-e9ec8dac09f6"
      },
      "execution_count": 17,
      "outputs": [
        {
          "output_type": "stream",
          "name": "stdout",
          "text": [
            "Digite uma string: futebol\n",
            "A string não possui caracteres duplicados.\n"
          ]
        }
      ]
    },
    {
      "cell_type": "markdown",
      "source": [
        "6) Desenvolva um programa que armazene quatro notas em uma lista e\n",
        "que apresente a média final. Caso a média seja igual ou superior a 7,\n",
        "apresentar a mensagem \"APROVADO\", caso contrário, armazenar a\n",
        "nota da prova final e recalcular a média. Caso a nova média seja igual\n",
        "superior a 5, apresentar a mensagem \"APROVADO\", caso contrário,\n",
        "apresentar a mensagem \"REPROVADO\""
      ],
      "metadata": {
        "id": "hxJ4-CN7orSN"
      }
    },
    {
      "cell_type": "code",
      "source": [
        "def calcular_media(notas):\n",
        "    soma = sum(notas)\n",
        "    media = soma / len(notas)\n",
        "    return media\n",
        "\n",
        "\n",
        "notas = []\n",
        "for i in range(4):\n",
        "    nota = float(input(f\"Informe a nota {i + 1}: \"))\n",
        "    notas.append(nota)\n",
        "\n",
        "media = calcular_media(notas)\n",
        "\n",
        "if media >= 7:\n",
        "    print(\"APROVADO\")\n",
        "else:\n",
        "    nota_final = float(input(\"Informe a nota da prova final: \"))\n",
        "    notas.append(nota_final)\n",
        "    nova_media = calcular_media(notas)\n",
        "\n",
        "    if nova_media >= 5:\n",
        "        print(\"APROVADO\")\n",
        "    else:\n",
        "        print(\"REPROVADO\")"
      ],
      "metadata": {
        "colab": {
          "base_uri": "https://localhost:8080/"
        },
        "id": "bRr2_63ao2VJ",
        "outputId": "076000b7-13a1-4e90-bc4d-06f9266cbead"
      },
      "execution_count": 18,
      "outputs": [
        {
          "output_type": "stream",
          "name": "stdout",
          "text": [
            "Informe a nota 1: 7\n",
            "Informe a nota 2: 9\n",
            "Informe a nota 3: 8\n",
            "Informe a nota 4: 9\n",
            "APROVADO\n"
          ]
        }
      ]
    },
    {
      "cell_type": "markdown",
      "source": [
        "7) Faça um programa que gere um número inteiro aleatório e que peça\n",
        "para o usuário adivinhar, informe se o número que o usuário digitou é\n",
        "menor ou maior que o número gerado. O jogo acaba quando o usuário\n",
        "acertar o número gerado."
      ],
      "metadata": {
        "id": "TCdLjrgopAto"
      }
    },
    {
      "cell_type": "code",
      "source": [
        "import random\n",
        "\n",
        "numero_gerado = random.randint(1, 20)  # Gera um número aleatório entre 1 e 20\n",
        "\n",
        "while True:\n",
        "    palpite = int(input(\"Digite um número: \"))\n",
        "\n",
        "    if palpite == numero_gerado:\n",
        "        print(\"Parabéns! Você acertou o número.\")\n",
        "        break\n",
        "    elif palpite < numero_gerado:\n",
        "        print(\"O número que você digitou é menor.\")\n",
        "    else:\n",
        "        print(\"O número que você digitou é maior.\")"
      ],
      "metadata": {
        "colab": {
          "base_uri": "https://localhost:8080/"
        },
        "id": "GRpSP3GRpC10",
        "outputId": "8ba7064a-1ae5-4ea9-f439-8aafcfd397c0"
      },
      "execution_count": 19,
      "outputs": [
        {
          "output_type": "stream",
          "name": "stdout",
          "text": [
            "Digite um número: 6\n",
            "O número que você digitou é menor.\n",
            "Digite um número: 3\n",
            "O número que você digitou é menor.\n",
            "Digite um número: 2\n",
            "O número que você digitou é menor.\n",
            "Digite um número: 1\n",
            "O número que você digitou é menor.\n",
            "Digite um número: 0\n",
            "O número que você digitou é menor.\n",
            "Digite um número: 9\n",
            "O número que você digitou é maior.\n",
            "Digite um número: 20\n",
            "O número que você digitou é maior.\n",
            "Digite um número: 1\n",
            "O número que você digitou é menor.\n",
            "Digite um número: 2\n",
            "O número que você digitou é menor.\n",
            "Digite um número: 2\n",
            "O número que você digitou é menor.\n",
            "Digite um número: 34\n",
            "O número que você digitou é maior.\n",
            "Digite um número: 4\n",
            "O número que você digitou é menor.\n",
            "Digite um número: 5\n",
            "O número que você digitou é menor.\n",
            "Digite um número: 5\n",
            "O número que você digitou é menor.\n",
            "Digite um número: 6\n",
            "O número que você digitou é menor.\n",
            "Digite um número: 7\n",
            "Parabéns! Você acertou o número.\n"
          ]
        }
      ]
    }
  ]
}